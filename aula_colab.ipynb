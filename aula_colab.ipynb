{
  "nbformat": 4,
  "nbformat_minor": 0,
  "metadata": {
    "colab": {
      "provenance": [],
      "authorship_tag": "ABX9TyMJ+qjClAPKxX8VXoKfBUre",
      "include_colab_link": true
    },
    "kernelspec": {
      "name": "python3",
      "display_name": "Python 3"
    },
    "language_info": {
      "name": "python"
    }
  },
  "cells": [
    {
      "cell_type": "markdown",
      "metadata": {
        "id": "view-in-github",
        "colab_type": "text"
      },
      "source": [
        "<a href=\"https://colab.research.google.com/github/Nesrux/ciencia_dados/blob/main/aula_colab.ipynb\" target=\"_parent\"><img src=\"https://colab.research.google.com/assets/colab-badge.svg\" alt=\"Open In Colab\"/></a>"
      ]
    },
    {
      "cell_type": "markdown",
      "source": [
        "# 1. Variaveis"
      ],
      "metadata": {
        "id": "nwRNouW3zl1j"
      }
    },
    {
      "cell_type": "markdown",
      "source": [
        "### **1.1 Definição**"
      ],
      "metadata": {
        "id": "4TdFWgalzxJ4"
      }
    },
    {
      "cell_type": "markdown",
      "source": [
        "Mecanismo de armazenamento volátoç de dados, ou seja dados salvos em pedacinhos da memória RAM do sistema computacional em uso ( Notebook, mobile, video game, telefone etc )"
      ],
      "metadata": {
        "id": "CLcbHEArz1iV"
      }
    },
    {
      "cell_type": "code",
      "source": [
        "idade = 21;\n",
        "nome = \"João\"\n",
        "print(idade)\n",
        "print(nome)"
      ],
      "metadata": {
        "id": "XAsPpguBz3Rl"
      },
      "execution_count": null,
      "outputs": []
    },
    {
      "cell_type": "markdown",
      "source": [
        "### **1.2** Tipos nativos"
      ],
      "metadata": {
        "id": "sS68BT230vMz"
      }
    },
    {
      "cell_type": "markdown",
      "source": [
        "**Tipos núméricos** : inteiros(int) e decimais (float)"
      ],
      "metadata": {
        "id": "7sSSipDI1FKY"
      }
    },
    {
      "cell_type": "code",
      "source": [
        "preco = 1000;\n",
        "tipo_preco = type(preco);\n",
        "\n",
        "print(preco);\n",
        "print(tipo_preco)\n",
        "\n",
        "juros = 0.05\n",
        "tipo_juros = type(juros)\n",
        "\n",
        "print(juros)\n",
        "print(tipo_juros)"
      ],
      "metadata": {
        "id": "eOfXskLP1NOx"
      },
      "execution_count": null,
      "outputs": []
    },
    {
      "cell_type": "markdown",
      "source": [
        "**Tipo de texto**: strings(str)"
      ],
      "metadata": {
        "id": "-Snyt-Nk1up1"
      }
    },
    {
      "cell_type": "code",
      "source": [
        "primeiro_nome = \"João\"\n",
        "print(type(primeiro_nome))"
      ],
      "metadata": {
        "id": "Tsdl0DAQ13NN"
      },
      "execution_count": null,
      "outputs": []
    },
    {
      "cell_type": "markdown",
      "source": [
        "**Tipos lógicos**: booleanos (bool):"
      ],
      "metadata": {
        "id": "Q6ZpdRi119nP"
      }
    },
    {
      "cell_type": "code",
      "source": [
        "usuario_maior_de_idade = False\n",
        "print(type(usuario_maior_de_idade))"
      ],
      "metadata": {
        "id": "KskQD-7E2E5n"
      },
      "execution_count": null,
      "outputs": []
    },
    {
      "cell_type": "markdown",
      "source": [
        "**Tipo Vazio**: (noneType)"
      ],
      "metadata": {
        "id": "DighiQjs2N_F"
      }
    },
    {
      "cell_type": "code",
      "source": [
        "telefone_fixo = None\n",
        "print(type(telefone_fixo))"
      ],
      "metadata": {
        "id": "HPcoVqKt2Vbk"
      },
      "execution_count": null,
      "outputs": []
    }
  ]
}