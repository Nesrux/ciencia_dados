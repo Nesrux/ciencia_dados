{
  "nbformat": 4,
  "nbformat_minor": 0,
  "metadata": {
    "colab": {
      "provenance": [],
      "authorship_tag": "ABX9TyNSd0Ho/2jcYzOY2wYHFKuW",
      "include_colab_link": true
    },
    "kernelspec": {
      "name": "python3",
      "display_name": "Python 3"
    },
    "language_info": {
      "name": "python"
    }
  },
  "cells": [
    {
      "cell_type": "markdown",
      "metadata": {
        "id": "view-in-github",
        "colab_type": "text"
      },
      "source": [
        "<a href=\"https://colab.research.google.com/github/Nesrux/ciencia_dados/blob/main/aula_colab.ipynb\" target=\"_parent\"><img src=\"https://colab.research.google.com/assets/colab-badge.svg\" alt=\"Open In Colab\"/></a>"
      ]
    },
    {
      "cell_type": "markdown",
      "source": [
        "# 1. Variaveis"
      ],
      "metadata": {
        "id": "nwRNouW3zl1j"
      }
    },
    {
      "cell_type": "markdown",
      "source": [
        "### **1.1 Definição**"
      ],
      "metadata": {
        "id": "4TdFWgalzxJ4"
      }
    },
    {
      "cell_type": "markdown",
      "source": [
        "Mecanismo de armazenamento volátoç de dados, ou seja dados salvos em pedacinhos da memória RAM do sistema computacional em uso ( Notebook, mobile, video game, telefone etc )"
      ],
      "metadata": {
        "id": "CLcbHEArz1iV"
      }
    },
    {
      "cell_type": "code",
      "source": [
        "idade = 21;\n",
        "nome = \"João\"\n",
        "print(idade)\n",
        "print(nome)"
      ],
      "metadata": {
        "id": "XAsPpguBz3Rl"
      },
      "execution_count": null,
      "outputs": []
    },
    {
      "cell_type": "markdown",
      "source": [
        "### **1.2** Tipos nativos"
      ],
      "metadata": {
        "id": "sS68BT230vMz"
      }
    },
    {
      "cell_type": "markdown",
      "source": [
        "**Tipos núméricos** : inteiros(int) e decimais (float)"
      ],
      "metadata": {
        "id": "7sSSipDI1FKY"
      }
    },
    {
      "cell_type": "code",
      "source": [
        "preco = 1000;\n",
        "tipo_preco = type(preco);\n",
        "\n",
        "print(preco);\n",
        "print(tipo_preco)\n",
        "\n",
        "juros = 0.05\n",
        "tipo_juros = type(juros)\n",
        "\n",
        "print(juros)\n",
        "print(tipo_juros)"
      ],
      "metadata": {
        "id": "eOfXskLP1NOx"
      },
      "execution_count": null,
      "outputs": []
    },
    {
      "cell_type": "markdown",
      "source": [
        "**Tipo de texto**: strings(str)"
      ],
      "metadata": {
        "id": "-Snyt-Nk1up1"
      }
    },
    {
      "cell_type": "code",
      "source": [
        "primeiro_nome = \"João\"\n",
        "print(type(primeiro_nome))"
      ],
      "metadata": {
        "id": "Tsdl0DAQ13NN"
      },
      "execution_count": null,
      "outputs": []
    },
    {
      "cell_type": "markdown",
      "source": [
        "**Tipos lógicos**: booleanos (bool):"
      ],
      "metadata": {
        "id": "Q6ZpdRi119nP"
      }
    },
    {
      "cell_type": "code",
      "source": [
        "usuario_maior_de_idade = False\n",
        "print(type(usuario_maior_de_idade))"
      ],
      "metadata": {
        "id": "KskQD-7E2E5n"
      },
      "execution_count": null,
      "outputs": []
    },
    {
      "cell_type": "markdown",
      "source": [
        "**Tipo Vazio**: (noneType)"
      ],
      "metadata": {
        "id": "DighiQjs2N_F"
      }
    },
    {
      "cell_type": "code",
      "source": [
        "telefone_fixo = None\n",
        "print(type(telefone_fixo))"
      ],
      "metadata": {
        "id": "HPcoVqKt2Vbk"
      },
      "execution_count": null,
      "outputs": []
    },
    {
      "cell_type": "markdown",
      "source": [
        "## 2. Números"
      ],
      "metadata": {
        "id": "GzTnWi875Yyw"
      }
    },
    {
      "cell_type": "markdown",
      "source": [
        "### **2.1 Motivação**"
      ],
      "metadata": {
        "id": "iS_Y9vG95fsU"
      }
    },
    {
      "cell_type": "markdown",
      "source": [
        "Você precisa calcular o ticjet médio diario do seu restaurante. A métrica é calculada pela soma do valor das vendas de um mesmo dia, dividido pela quantidade de vendas, também de um mesmo dia, Como podemos fazer isso usando python."
      ],
      "metadata": {
        "id": "4JOAR83J5l5Y"
      }
    },
    {
      "cell_type": "markdown",
      "source": [
        "**2.2 Definição**"
      ],
      "metadata": {
        "id": "L1VewLH_563m"
      }
    },
    {
      "cell_type": "markdown",
      "source": [
        "Armazenam valores **numéricos**\n",
        "* 10, 34, 300 (inteiros)\n",
        "* 0.333, 10.1, 321.341 (decimais)\n",
        "* i + 2j (complexos)"
      ],
      "metadata": {
        "id": "UzsJ9Xb76Acj"
      }
    },
    {
      "cell_type": "markdown",
      "source": [
        "São dos tipos :\n",
        "* int ( inteiros )\n",
        "* float ( decimais )\n",
        "* complex ( complexos )\n"
      ],
      "metadata": {
        "id": "n1tduhQg6fg7"
      }
    },
    {
      "cell_type": "code",
      "source": [
        "print(type(10))\n",
        "print(type(10.34))\n",
        "print(type(1 + 2j))"
      ],
      "metadata": {
        "id": "PhA9ij8s6pLS"
      },
      "execution_count": null,
      "outputs": []
    },
    {
      "cell_type": "markdown",
      "source": [
        "**2.3 Operações**"
      ],
      "metadata": {
        "id": "0JnzyNfy6zT8"
      }
    },
    {
      "cell_type": "markdown",
      "source": [
        "As operações dos tipos numéricos são as quatros operações matemáticas fundamentais\n",
        "* \\+ ( soma )\n",
        "* \\- ( subtração )\n",
        "* \\\\ ( divisão )\n",
        "*  \\* ( multiplicação)\n",
        "\n",
        "Além de operações mais avançadas:\n",
        "* // ( Divisão inteira )\n",
        "* \\** ( Potênciação ou exponenciação)\n",
        "* %  ( Resto da divisão )"
      ],
      "metadata": {
        "id": "7Jq1ixbd63El"
      }
    },
    {
      "cell_type": "markdown",
      "source": [
        "**Exemplo**: Carrinho de compra de um e-commerce"
      ],
      "metadata": {
        "id": "lwvHWSXp7wzU"
      }
    },
    {
      "cell_type": "code",
      "source": [
        "qta_items_carrinho_compra = 0;\n",
        "qta_items_carrinho_compra  = qta_items_carrinho_compra + 1\n",
        "print(qta_items_carrinho_compra)\n",
        "\n"
      ],
      "metadata": {
        "id": "15z5BOY371OZ"
      },
      "execution_count": null,
      "outputs": []
    },
    {
      "cell_type": "code",
      "source": [
        "qta_items_carrinho_compra = 0;\n",
        "qta_items_carrinho_compra += 1;\n",
        "print(qta_items_carrinho_compra)\n",
        "\n",
        "qta_items_carrinho_compra += 3;\n",
        "print(qta_items_carrinho_compra)"
      ],
      "metadata": {
        "id": "DVfvyudJ8B5O"
      },
      "execution_count": null,
      "outputs": []
    }
  ]
}